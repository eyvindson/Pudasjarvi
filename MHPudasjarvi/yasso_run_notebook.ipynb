{
 "cells": [
  {
   "cell_type": "code",
   "execution_count": 1,
   "metadata": {},
   "outputs": [],
   "source": [
    "import os\n",
    "import argparse\n",
    "import glob\n",
    "import pathlib\n",
    "import numpy as np\n",
    "from scipy import interpolate\n",
    "import pandas as pd\n",
    "import subprocess\n",
    "\n",
    "def read_co2_file(file_name):\n",
    "    df = pd.read_csv(file_name,sep=' ')\n",
    "    return df\n",
    "\n",
    "def extract_grid_id(file_name):\n",
    "    p = pathlib.Path(file_name)\n",
    "    name = p.name\n",
    "    name_str = str(name)\n",
    "    name_ls = name_str.split('_')\n",
    "    #First part is the ID\n",
    "    grid_id = name_ls[0]\n",
    "    return grid_id\n",
    "\n",
    "def add_id(file_name,df):\n",
    "    grid_id = extract_grid_id(file_name)\n",
    "    df.insert(0,'ID',grid_id)\n",
    "    return df\n",
    "\n",
    "def concat_df(df_new,df):\n",
    "    df = pd.concat([df,df_new])\n",
    "    return df\n",
    "\n",
    "def write_df(df,file_name,mode):\n",
    "    df.to_csv(file_name,sep=' ',mode=mode)\n",
    "\n"
   ]
  },
  {
   "cell_type": "code",
   "execution_count": null,
   "metadata": {},
   "outputs": [],
   "source": [
    "\"\"\"\n",
    "if __name__ == \"__main__\":\n",
    "    parser = argparse.ArgumentParser()\n",
    "    parser.add_argument('-f',type=str,dest='f',help='CO2_result file after single yasso run')\n",
    "    parser.add_argument('-o',type=str,dest='o',help='Combined output file after all yasso runs')\n",
    "    args = parser.parse_args()\n",
    "    if args.f == None:\n",
    "        print(\"No CO2result input file name\")\n",
    "        quit()\n",
    "    if args.o == None:\n",
    "        print(\"No final CO2result output file name\")\n",
    "        \n",
    "    \n",
    "    args = parser.parse_args()\n",
    "\"\"\"\n",
    "from subprocess import PIPE, run\n",
    "import os\n",
    "os.chdir('/scratch/project_2003225/GIT/MELASoil/R/')\n",
    "\n",
    "outfolder = '/scratch/project_2003225/GIT/Yasso/Output_files_Yasso/'\n",
    "\n",
    "from os import listdir\n",
    "from os.path import isfile, join\n",
    "mypath = \"/scratch/project_2003225/GIT/Yasso/Input_files_Yasso/PUDASJARVI_P30061_2010_2060/\"\n",
    "ls = [f for f in listdir(mypath) if isfile(join(mypath, f)) if f.endswith(\".txt\")]\n",
    "\n",
    "#ls = ls[0:5]#['794812_PUDASJARVI_P30061_SKE4_4.txt','832917_PUDASJARVI_P30061_SKE4_4.txt','807276_PUDASJARVI_P30063_SKE4_4.txt']\n",
    "folder = '/scratch/project_2003225/GIT/Yasso/Input_files_Yasso/PUDASJARVI_P30061_2010_2060/'\n",
    "fname = ls[0]\n",
    "ls.pop(0)\n",
    "#run yasso here once\n",
    "#subprocess.call(['Rscript', '/scratch/project_2003225/GIT/MELASoil/R/MELAToC_main.R', fname, folder])\n",
    "command = ['Rscript', '/scratch/project_2003225/GIT/MELASoil/R/MELAToC_main.R', fname, folder,outfolder]\n",
    "run(command, stdout=PIPE, stderr=PIPE, universal_newlines=True)\n",
    "\n",
    "#Edit to move outside of R loop\n",
    "#df_final_co2 = read_co2_file(outfolder+fname[:-4]+\"_out.csv\")\n",
    "#df_final_co2 = add_id(fname,df_final_co2)\n",
    "\n",
    "\n",
    "#cmds_list = [['./bunzip2_file.py', file_name] for file_name in f_list]\n",
    "cmds_list =[['Rscript', '/scratch/project_2003225/GIT/MELASoil/R/MELAToC_main.R', fname, folder,outfolder] for fname in ls]\n",
    "procs_list = [run(cmd, stdout=PIPE, stderr=PIPE) for cmd in cmds_list]\n",
    "i = 0\n",
    "for proc in procs_list:\n",
    "    proc\n",
    "    print(i)\n",
    "    i=i+1\n",
    "    \n",
    "#for fname in ls:\n",
    "    \n",
    "#    command = ['Rscript', '/scratch/project_2003225/GIT/MELASoil/R/MELAToC_main.R', fname, folder,outfolder]\n",
    "#    run(command, stdout=PIPE, stderr=PIPE, universal_newlines=True)\n",
    "\n",
    "#    df_co2 = read_co2_file(outfolder+fname[:-4]+\"_out.csv\")\n",
    "#    df_co2 = add_id(fname,df_co2)\n",
    "#    df_final_co2 = concat_df(df_co2,df_final_co2)\n",
    "#write_df(df_final_co2,'/scratch/project_2003225/temp2.txt','w')\n"
   ]
  },
  {
   "cell_type": "code",
   "execution_count": 36,
   "metadata": {},
   "outputs": [
    {
     "data": {
      "text/plain": [
       "40"
      ]
     },
     "execution_count": 36,
     "metadata": {},
     "output_type": "execute_result"
    }
   ],
   "source": [
    "import multiprocessing\n",
    "\n",
    "multiprocessing.cpu_count()"
   ]
  },
  {
   "cell_type": "code",
   "execution_count": 31,
   "metadata": {},
   "outputs": [],
   "source": [
    "from os import listdir\n",
    "from os.path import isfile, join\n",
    "mypath = \"/scratch/project_2003225/GIT/Yasso/Input_files_Yasso/PUDASJARVI_P30061_2010_2060/\"\n",
    "onlyfiles = [f for f in listdir(mypath) if isfile(join(mypath, f)) if f.endswith(\".txt\")]\n"
   ]
  },
  {
   "cell_type": "code",
   "execution_count": 32,
   "metadata": {},
   "outputs": [
    {
     "data": {
      "text/plain": [
       "['787119_PUDASJARVI_P30061_SKE4_4.txt',\n",
       " '773994_PUDASJARVI_P30061_SKE4_4.txt',\n",
       " '828368_PUDASJARVI_P30061_SKE4_4.txt',\n",
       " '831249_PUDASJARVI_P30061_SKE4_4.txt',\n",
       " '824749_PUDASJARVI_P30061_SKE4_4.txt']"
      ]
     },
     "execution_count": 32,
     "metadata": {},
     "output_type": "execute_result"
    }
   ],
   "source": [
    "onlyfiles[0:5]"
   ]
  },
  {
   "cell_type": "code",
   "execution_count": 14,
   "metadata": {},
   "outputs": [
    {
     "data": {
      "text/plain": [
       "1"
      ]
     },
     "execution_count": 14,
     "metadata": {},
     "output_type": "execute_result"
    }
   ],
   "source": [
    "subprocess.call(['Rscript', '/scratch/project_2003225/GIT/MELASoil/R/MELAToC_main.R', fname, folder])"
   ]
  },
  {
   "cell_type": "code",
   "execution_count": 16,
   "metadata": {},
   "outputs": [
    {
     "name": "stdout",
     "output_type": "stream",
     "text": [
      "STDOUT:b''\n"
     ]
    }
   ],
   "source": [
    "import subprocess\n",
    "process = subprocess.Popen(['Rscript', '/scratch/project_2003225/GIT/MELASoil/R/MELAToC_main.R', fname, folder], stdout=subprocess.PIPE)\n",
    "stdout = process.communicate()[0]\n",
    "print('STDOUT:{}'.format(stdout))"
   ]
  },
  {
   "cell_type": "code",
   "execution_count": 17,
   "metadata": {},
   "outputs": [
    {
     "data": {
      "text/plain": [
       "1"
      ]
     },
     "execution_count": 17,
     "metadata": {},
     "output_type": "execute_result"
    }
   ],
   "source": [
    "subprocess.call(['Rscript', '/scratch/project_2003225/GIT/MELASoil/R/MELAToC_main.R', fname, folder], stdout=subprocess.PIPE)\n"
   ]
  },
  {
   "cell_type": "code",
   "execution_count": 21,
   "metadata": {},
   "outputs": [
    {
     "data": {
      "text/plain": [
       "1"
      ]
     },
     "execution_count": 21,
     "metadata": {},
     "output_type": "execute_result"
    }
   ],
   "source": [
    "subprocess.call(['Rscript', '/scratch/project_2003225/GIT/MELASoil/R/MELAToC_main.R', fname, folder,outfolder], stdout=subprocess.PIPE)"
   ]
  },
  {
   "cell_type": "code",
   "execution_count": 20,
   "metadata": {},
   "outputs": [],
   "source": [
    "outfolder = '/scratch/project_2003225/GIT/Yasso/Output_files_Yasso/'"
   ]
  },
  {
   "cell_type": "code",
   "execution_count": 19,
   "metadata": {},
   "outputs": [
    {
     "data": {
      "text/plain": [
       "'/scratch/project_2003225/GIT/Yasso/Input_files_Yasso/PUDASJARVI_P30061_2010_2060/'"
      ]
     },
     "execution_count": 19,
     "metadata": {},
     "output_type": "execute_result"
    }
   ],
   "source": [
    "folder"
   ]
  },
  {
   "cell_type": "code",
   "execution_count": 24,
   "metadata": {},
   "outputs": [
    {
     "name": "stdout",
     "output_type": "stream",
     "text": [
      "0 [1] \"The file has 148 lines.\"\n",
      "[1] \"Line numbers of beginning of Area information\"\n",
      "[1]  2 76\n",
      "[1] \"MelaYears\"\n",
      "[1] 2010 2015 2020 2030 2040 2050 2060\n",
      "[1] \"AREAS\"\n",
      "  region soil area\n",
      "1      1    1 1000\n",
      "2      1    2    0\n",
      "3      1    3    0\n",
      "4      2    1    0\n",
      "5      2    2    0\n",
      "6      2    3    0\n",
      "[1] \"First stock line \"\n",
      "  region soil species    X2010    X2015    X2020    X2030    X2040    X2050\n",
      "1      1    1       1 277.7464 209.5048 141.2633 4.780185 8.007642 24.75016\n",
      "    X2060\n",
      "1 56.2528\n",
      "[1] \"First Natural mortality line \"\n",
      "  region soil species     X2010      X2015    X2020     X2030     X2040\n",
      "1      1    1       1 0.0013031 0.00141805 0.001533 0.0017629 0.0116431\n",
      "      X2050\n",
      "1 0.0139192\n",
      "[1] \"First harvest waste line \"\n",
      "  region soil species part X2010 X2015     X2020 X2030 X2040 X2050\n",
      "1      1    1       1    3     0     0 0.1873092     0     0     0\n",
      " \n"
     ]
    }
   ],
   "source": [
    "from subprocess import PIPE, run\n",
    "import os\n",
    "os.chdir('/scratch/project_2003225/GIT/MELASoil/R/')\n",
    "\n",
    "command = ['Rscript', '/scratch/project_2003225/GIT/MELASoil/R/MELAToC_main.R', fname, folder,outfolder]\n",
    "run(command, stdout=PIPE, stderr=PIPE, universal_newlines=True)\n",
    "result = run(command, stdout=PIPE, stderr=PIPE, universal_newlines=True)\n",
    "\n",
    "print(result.returncode, result.stdout, result.stderr)"
   ]
  },
  {
   "cell_type": "code",
   "execution_count": null,
   "metadata": {},
   "outputs": [],
   "source": [
    "/scratch/project_2003225/GIT/MELASoil/R"
   ]
  }
 ],
 "metadata": {
  "kernelspec": {
   "display_name": "Python 3",
   "language": "python",
   "name": "python3"
  },
  "language_info": {
   "codemirror_mode": {
    "name": "ipython",
    "version": 3
   },
   "file_extension": ".py",
   "mimetype": "text/x-python",
   "name": "python",
   "nbconvert_exporter": "python",
   "pygments_lexer": "ipython3",
   "version": "3.8.5"
  }
 },
 "nbformat": 4,
 "nbformat_minor": 4
}
