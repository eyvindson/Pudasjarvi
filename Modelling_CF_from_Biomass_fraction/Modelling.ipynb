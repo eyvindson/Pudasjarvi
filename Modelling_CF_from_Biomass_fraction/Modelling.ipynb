{
 "cells": [
  {
   "cell_type": "code",
   "execution_count": 39,
   "metadata": {},
   "outputs": [
    {
     "ename": "NameError",
     "evalue": "name 'x' is not defined",
     "output_type": "error",
     "traceback": [
      "\u001b[1;31m---------------------------------------------------------------------------\u001b[0m",
      "\u001b[1;31mNameError\u001b[0m                                 Traceback (most recent call last)",
      "\u001b[1;32m<ipython-input-39-400de9e4fc0a>\u001b[0m in \u001b[0;36m<module>\u001b[1;34m\u001b[0m\n\u001b[0;32m     14\u001b[0m \u001b[0mX\u001b[0m\u001b[1;33m[\u001b[0m\u001b[1;34m\"dec\"\u001b[0m\u001b[1;33m]\u001b[0m \u001b[1;33m=\u001b[0m \u001b[0mvol_muulp\u001b[0m\u001b[1;33m[\u001b[0m\u001b[1;36m2\u001b[0m\u001b[1;33m]\u001b[0m\u001b[1;33m+\u001b[0m\u001b[0mvol_birch\u001b[0m\u001b[1;33m[\u001b[0m\u001b[1;36m2\u001b[0m\u001b[1;33m]\u001b[0m\u001b[1;33m\u001b[0m\u001b[1;33m\u001b[0m\u001b[0m\n\u001b[0;32m     15\u001b[0m \u001b[0mX\u001b[0m\u001b[1;33m[\u001b[0m\u001b[1;34m\"cover\"\u001b[0m\u001b[1;33m]\u001b[0m \u001b[1;33m=\u001b[0m \u001b[0mcover\u001b[0m\u001b[1;33m[\u001b[0m\u001b[1;36m2\u001b[0m\u001b[1;33m]\u001b[0m\u001b[1;33m\u001b[0m\u001b[1;33m\u001b[0m\u001b[0m\n\u001b[1;32m---> 16\u001b[1;33m \u001b[0mx\u001b[0m\u001b[1;33m[\u001b[0m\u001b[1;34m\"vol\"\u001b[0m\u001b[1;33m]\u001b[0m \u001b[1;33m=\u001b[0m \u001b[0mtilavuus\u001b[0m\u001b[1;33m[\u001b[0m\u001b[1;36m2\u001b[0m\u001b[1;33m]\u001b[0m\u001b[1;33m\u001b[0m\u001b[1;33m\u001b[0m\u001b[0m\n\u001b[0m\u001b[0;32m     17\u001b[0m \u001b[1;33m\u001b[0m\u001b[0m\n\u001b[0;32m     18\u001b[0m \u001b[1;33m\u001b[0m\u001b[0m\n",
      "\u001b[1;31mNameError\u001b[0m: name 'x' is not defined"
     ]
    }
   ],
   "source": [
    "import statsmodels.api as sm\n",
    "import pandas as pd\n",
    "vol_spruce = pd.read_csv(\"out_pk_segmean_kuusi_vmi1x_1216.txt\",header = None, delim_whitespace = True)\n",
    "vol_birch = pd.read_csv(\"out_pk_segmean_koivu_vmi1x_1216.txt\",header = None, delim_whitespace = True)\n",
    "vol_pine = pd.read_csv(\"out_pk_segmean_manty_vmi1x_1216.txt\",header = None, delim_whitespace = True)\n",
    "vol_muulp = pd.read_csv(\"out_pk_segmean_muulp_vmi1x_1216.txt\",header = None, delim_whitespace = True)\n",
    "tilavuus = pd.read_csv(\"out_pk_segmean_tilavuus_vmi1x_1216.txt\",header = None, delim_whitespace = True)\n",
    "cover = pd.read_csv(\"out_pk_segmean_latvuspeitto_vmi1x_1216.txt\",header = None, delim_whitespace = True)\n",
    "\n",
    "X = vol_spruce\n",
    "X = X.drop([0,1],axis = 1)\n",
    "X.columns = [\"Spruce\"]\n",
    "X[\"pine\"] = vol_pine[2]\n",
    "X[\"dec\"] = vol_muulp[2]+vol_birch[2]\n",
    "X[\"cover\"] = cover[2]\n",
    "X[\"vol\"] = tilavuus[2]\n",
    "\n",
    "\n",
    "Y = cover[2]\n",
    "\n",
    "model = sm.OLS(Y,X[[\"pine\",\"Spruce\",\"dec\"]]).fit()\n",
    "predictions = model.predict(X)\n",
    "\n",
    "model.summary()"
   ]
  },
  {
   "cell_type": "code",
   "execution_count": 41,
   "metadata": {},
   "outputs": [
    {
     "data": {
      "text/html": [
       "<table class=\"simpletable\">\n",
       "<caption>OLS Regression Results</caption>\n",
       "<tr>\n",
       "  <th>Dep. Variable:</th>            <td>2</td>        <th>  R-squared (uncentered):</th>       <td>   0.955</td>  \n",
       "</tr>\n",
       "<tr>\n",
       "  <th>Model:</th>                   <td>OLS</td>       <th>  Adj. R-squared (uncentered):</th>  <td>   0.955</td>  \n",
       "</tr>\n",
       "<tr>\n",
       "  <th>Method:</th>             <td>Least Squares</td>  <th>  F-statistic:       </th>           <td>4.034e+07</td> \n",
       "</tr>\n",
       "<tr>\n",
       "  <th>Date:</th>             <td>Fri, 14 Aug 2020</td> <th>  Prob (F-statistic):</th>            <td>  0.00</td>   \n",
       "</tr>\n",
       "<tr>\n",
       "  <th>Time:</th>                 <td>17:50:43</td>     <th>  Log-Likelihood:    </th>          <td>-2.1606e+07</td>\n",
       "</tr>\n",
       "<tr>\n",
       "  <th>No. Observations:</th>      <td>5704603</td>     <th>  AIC:               </th>           <td>4.321e+07</td> \n",
       "</tr>\n",
       "<tr>\n",
       "  <th>Df Residuals:</th>          <td>5704600</td>     <th>  BIC:               </th>           <td>4.321e+07</td> \n",
       "</tr>\n",
       "<tr>\n",
       "  <th>Df Model:</th>              <td>     3</td>      <th>                     </th>               <td> </td>     \n",
       "</tr>\n",
       "<tr>\n",
       "  <th>Covariance Type:</th>      <td>nonrobust</td>    <th>                     </th>               <td> </td>     \n",
       "</tr>\n",
       "</table>\n",
       "<table class=\"simpletable\">\n",
       "<tr>\n",
       "     <td></td>       <th>coef</th>     <th>std err</th>      <th>t</th>      <th>P>|t|</th>  <th>[0.025</th>    <th>0.975]</th>  \n",
       "</tr>\n",
       "<tr>\n",
       "  <th>pine</th>   <td>    0.5490</td> <td>    0.000</td> <td> 4856.750</td> <td> 0.000</td> <td>    0.549</td> <td>    0.549</td>\n",
       "</tr>\n",
       "<tr>\n",
       "  <th>Spruce</th> <td>    0.1387</td> <td>    0.000</td> <td>  691.374</td> <td> 0.000</td> <td>    0.138</td> <td>    0.139</td>\n",
       "</tr>\n",
       "<tr>\n",
       "  <th>dec</th>    <td>    0.7537</td> <td>    0.000</td> <td> 2585.482</td> <td> 0.000</td> <td>    0.753</td> <td>    0.754</td>\n",
       "</tr>\n",
       "</table>\n",
       "<table class=\"simpletable\">\n",
       "<tr>\n",
       "  <th>Omnibus:</th>       <td>536155.644</td> <th>  Durbin-Watson:     </th>  <td>   1.305</td> \n",
       "</tr>\n",
       "<tr>\n",
       "  <th>Prob(Omnibus):</th>   <td> 0.000</td>   <th>  Jarque-Bera (JB):  </th> <td>969073.551</td>\n",
       "</tr>\n",
       "<tr>\n",
       "  <th>Skew:</th>            <td>-0.656</td>   <th>  Prob(JB):          </th>  <td>    0.00</td> \n",
       "</tr>\n",
       "<tr>\n",
       "  <th>Kurtosis:</th>        <td> 4.534</td>   <th>  Cond. No.          </th>  <td>    4.45</td> \n",
       "</tr>\n",
       "</table><br/><br/>Warnings:<br/>[1] Standard Errors assume that the covariance matrix of the errors is correctly specified."
      ],
      "text/plain": [
       "<class 'statsmodels.iolib.summary.Summary'>\n",
       "\"\"\"\n",
       "                                 OLS Regression Results                                \n",
       "=======================================================================================\n",
       "Dep. Variable:                      2   R-squared (uncentered):                   0.955\n",
       "Model:                            OLS   Adj. R-squared (uncentered):              0.955\n",
       "Method:                 Least Squares   F-statistic:                          4.034e+07\n",
       "Date:                Fri, 14 Aug 2020   Prob (F-statistic):                        0.00\n",
       "Time:                        17:50:43   Log-Likelihood:                     -2.1606e+07\n",
       "No. Observations:             5704603   AIC:                                  4.321e+07\n",
       "Df Residuals:                 5704600   BIC:                                  4.321e+07\n",
       "Df Model:                           3                                                  \n",
       "Covariance Type:            nonrobust                                                  \n",
       "==============================================================================\n",
       "                 coef    std err          t      P>|t|      [0.025      0.975]\n",
       "------------------------------------------------------------------------------\n",
       "pine           0.5490      0.000   4856.750      0.000       0.549       0.549\n",
       "Spruce         0.1387      0.000    691.374      0.000       0.138       0.139\n",
       "dec            0.7537      0.000   2585.482      0.000       0.753       0.754\n",
       "==============================================================================\n",
       "Omnibus:                   536155.644   Durbin-Watson:                   1.305\n",
       "Prob(Omnibus):                  0.000   Jarque-Bera (JB):           969073.551\n",
       "Skew:                          -0.656   Prob(JB):                         0.00\n",
       "Kurtosis:                       4.534   Cond. No.                         4.45\n",
       "==============================================================================\n",
       "\n",
       "Warnings:\n",
       "[1] Standard Errors assume that the covariance matrix of the errors is correctly specified.\n",
       "\"\"\""
      ]
     },
     "execution_count": 41,
     "metadata": {},
     "output_type": "execute_result"
    }
   ],
   "source": [
    "X[\"vol\"] = tilavuus[2]\n",
    "\n",
    "\n",
    "Y = cover[2]\n",
    "\n",
    "model = sm.OLS(Y,X[[\"pine\",\"Spruce\",\"dec\"]]).fit()\n",
    "predictions = model.predict(X[[\"pine\",\"Spruce\",\"dec\"]])\n",
    "\n",
    "model.summary()"
   ]
  },
  {
   "cell_type": "code",
   "execution_count": 38,
   "metadata": {},
   "outputs": [
    {
     "data": {
      "text/plain": [
       "<matplotlib.axes._subplots.AxesSubplot at 0x19aa6276848>"
      ]
     },
     "execution_count": 38,
     "metadata": {},
     "output_type": "execute_result"
    },
    {
     "data": {
      "image/png": "[encoded data removed]",
      "text/plain": [
       "<Figure size 432x288 with 1 Axes>"
      ]
     },
     "metadata": {
      "needs_background": "light"
     },
     "output_type": "display_data"
    }
   ],
   "source": [
    "X.plot.scatter(x='cover',y='vol')"
   ]
  },
  {
   "cell_type": "code",
   "execution_count": 35,
   "metadata": {},
   "outputs": [
    {
     "data": {
      "text/plain": [
       "429.0"
      ]
     },
     "execution_count": 35,
     "metadata": {},
     "output_type": "execute_result"
    }
   ],
   "source": [
    "max(tilavuus[2])\n"
   ]
  },
  {
   "cell_type": "code",
   "execution_count": null,
   "metadata": {},
   "outputs": [],
   "source": []
  }
 ],
 "metadata": {
  "kernelspec": {
   "display_name": "Python 3",
   "language": "python",
   "name": "python3"
  },
  "language_info": {
   "codemirror_mode": {
    "name": "ipython",
    "version": 3
   },
   "file_extension": ".py",
   "mimetype": "text/x-python",
   "name": "python",
   "nbconvert_exporter": "python",
   "pygments_lexer": "ipython3",
   "version": "3.7.7"
  }
 },
 "nbformat": 4,
 "nbformat_minor": 4
}
