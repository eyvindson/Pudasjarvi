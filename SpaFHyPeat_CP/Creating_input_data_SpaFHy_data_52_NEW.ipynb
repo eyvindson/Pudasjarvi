{
 "cells": [
  {
   "cell_type": "code",
   "execution_count": 1,
   "metadata": {},
   "outputs": [],
   "source": [
    "import pandas as pd\n",
    "import numpy as np\n",
    "\n",
    "folder = \"/scratch/project_2003225/GIT/SpaFHy-Peat/Puhdasjarvi/Data/\"\n",
    "name_data_51 = \"V5/PUDASJARVI_P30051_SKE4_4_V5.MPU\"\n",
    "name_data_52 = \"V5/PUDASJARVI_P30052_SKE4_4_V5.MPU\"\n",
    "name_data_53 = \"V5/PUDASJARVI_P30053_SKE4_4_V5.MPU\"\n",
    "header_file = \"V3/header.csv\""
   ]
  },
  {
   "cell_type": "code",
   "execution_count": 2,
   "metadata": {},
   "outputs": [],
   "source": [
    "import csv\n",
    "\n",
    "with open(folder+header_file, newline=\"\\r\\n\") as f:\n",
    "    reader = csv.reader(f)\n",
    "    header = list(reader)\n",
    "header = header[0]"
   ]
  },
  {
   "cell_type": "code",
   "execution_count": 7,
   "metadata": {},
   "outputs": [],
   "source": [
    "data_loc = \"Data_53\"\n",
    "#Only need to work with data from 51, 52 and 53, as these are the drained peats\n",
    "#data_61 = pd.read_csv(folder+name_data_61,delim_whitespace=True,header = None)\n",
    "#data_61.columns = header\n",
    "data_51 = pd.read_csv(folder+name_data_53,delim_whitespace=True,header = None)\n",
    "#data_51.columns = header\n",
    "#data_62 = pd.read_csv(folder+name_data_62,delim_whitespace=True,header = None)\n",
    "#data_62.columns = header\n",
    "#data_51 = pd.read_csv(folder+name_data_52,delim_whitespace=True,header = None)\n",
    "#data_52.columns = header\n",
    "#data_63 = pd.read_csv(folder+name_data_63,delim_whitespace=True,header = None)\n",
    "#data_63.columns = header\n",
    "#data_53 = pd.read_csv(folder+name_data_53,delim_whitespace=True,header = None)\n",
    "#data_53.columns = header\n"
   ]
  },
  {
   "cell_type": "code",
   "execution_count": 8,
   "metadata": {},
   "outputs": [
    {
     "name": "stdout",
     "output_type": "stream",
     "text": [
      "nan\n",
      "nan\n",
      "nan\n"
     ]
    }
   ],
   "source": [
    "i = 0\n",
    "#data_51.plot.scatter(x=15,y=25)\n",
    "a1 = data_51[15+i]/data_51[[15+i,20+i,25+i]].sum(axis=1)\n",
    "a2 = data_51[20+i]/data_51[[15+i,20+i,25+i]].sum(axis=1)\n",
    "a3 = data_51[25+i]/data_51[[15+i,20+i,25+i]].sum(axis=1)\n",
    "\n",
    "a1v = data_51[15+i]\n",
    "a2v = data_51[20+i]\n",
    "a3v = data_51[25+i]\n",
    "\n",
    "\n",
    "a4 = data_51[[15+i,20+i,25+i]].sum(axis=1)\n",
    "pine_ppa = data_51[183]*a1\n",
    "spruce_ppa = data_51[183]*a2\n",
    "dec_ppa = data_51[183]*a3\n",
    "print(max(pine_ppa)*3.2234)\n",
    "print(max(spruce_ppa)*2.1661)\n",
    "print(max(dec_ppa)*5.035)\n",
    "#print(a1.max())\n",
    "#print(a2.max())\n",
    "#print(a3.max())\n",
    "#print(a4.max())"
   ]
  },
  {
   "cell_type": "code",
   "execution_count": 5,
   "metadata": {},
   "outputs": [
    {
     "data": {
      "text/plain": [
       "<AxesSubplot:xlabel='x1', ylabel='y1'>"
      ]
     },
     "execution_count": 5,
     "metadata": {},
     "output_type": "execute_result"
    },
    {
     "data": {
      "image/png": "[encoded data removed]",
      "text/plain": [
       "<Figure size 432x288 with 1 Axes>"
      ]
     },
     "metadata": {
      "needs_background": "light"
     },
     "output_type": "display_data"
    },
    {
     "data": {
      "image/png": "[encoded data removed]",
      "text/plain": [
       "<Figure size 432x288 with 1 Axes>"
      ]
     },
     "metadata": {
      "needs_background": "light"
     },
     "output_type": "display_data"
    }
   ],
   "source": [
    "\n",
    "dat = {\"pine_ppa\": pine_ppa, \"spruce_ppa\":spruce_ppa,\"dec_ppa\":dec_ppa,\"vol\":a4 ,\"pine_vol\":a1v,\"spruce_vol\":a2v,\"dec_vol\":a3v}\n",
    "dat = pd.DataFrame(dat)\n",
    "cf = (dat[\"pine_ppa\"]*3.2234+dat[\"spruce_ppa\"]*2.1661+dat[\"dec_ppa\"]*5.0358)\n",
    "cf_vol =0.549*dat[\"pine_vol\"]+.1387*dat[\"spruce_vol\"]+.7537*dat[\"dec_vol\"]\n",
    "\n",
    "x_y = {\"x\":cf,\"x1\": cf_vol,\"y\" :(dat[\"pine_ppa\"]+dat[\"spruce_ppa\"]+dat[\"dec_ppa\"]),\"y1\": dat[\"vol\"]}\n",
    "x_y = pd.DataFrame(x_y)# = cf,y =(dat[16]+dat[21]+dat[26]))\n",
    "x_y.plot.scatter(x='x',y='y1')\n",
    "x_y.plot.scatter(x='x1',y='y1')"
   ]
  },
  {
   "cell_type": "code",
   "execution_count": 6,
   "metadata": {},
   "outputs": [],
   "source": [
    "i = 0\n",
    "df_fm_pine_2020 = data_51[[158+i,163+i,168+i]].sum(axis = 1)*(data_51[15+i]/data_51[[15+i,20+i,25+i]].sum(axis=1))\n",
    "i = 1\n",
    "df_fm_pine_2030 = data_51[[158+i,163+i,168+i]].sum(axis = 1)*(data_51[15+i]/data_51[[15+i,20+i,25+i]].sum(axis=1))\n",
    "i = 2\n",
    "df_fm_pine_2040 = data_51[[158+i,163+i,168+i]].sum(axis = 1)*(data_51[15+i]/data_51[[15+i,20+i,25+i]].sum(axis=1))\n",
    "i = 3\n",
    "df_fm_pine_2050 = data_51[[158+i,163+i,168+i]].sum(axis = 1)*(data_51[15+i]/data_51[[15+i,20+i,25+i]].sum(axis=1))\n",
    "i = 4\n",
    "df_fm_pine_2060 = data_51[[158+i,163+i,168+i]].sum(axis = 1)*(data_51[15+i]/data_51[[15+i,20+i,25+i]].sum(axis=1))\n",
    "i = 0\n",
    "df_fm_spruce_2020 = data_51[[158+i,163+i,168+i]].sum(axis = 1)*(data_51[20+i]/data_51[[15+i,20+i,25+i]].sum(axis=1))\n",
    "i =1\n",
    "df_fm_spruce_2030 = data_51[[158+i,163+i,168+i]].sum(axis = 1)*(data_51[20+i]/data_51[[15+i,20+i,25+i]].sum(axis=1))\n",
    "i = 2\n",
    "df_fm_spruce_2040 = data_51[[158+i,163+i,168+i]].sum(axis = 1)*(data_51[20+i]/data_51[[15+i,20+i,25+i]].sum(axis=1))\n",
    "i = 3\n",
    "df_fm_spruce_2050 = data_51[[158+i,163+i,168+i]].sum(axis = 1)*(data_51[20+i]/data_51[[15+i,20+i,25+i]].sum(axis=1))\n",
    "i = 4\n",
    "df_fm_spruce_2060 = data_51[[158+i,163+i,168+i]].sum(axis = 1)*(data_51[20+i]/data_51[[15+i,20+i,25+i]].sum(axis=1))\n",
    "i = 0\n",
    "df_fm_dec_2020 = data_51[[158+i,163+i,168+i]].sum(axis = 1)*(data_51[25+i]/data_51[[15+i,20+i,25+i]].sum(axis=1))\n",
    "i = 1\n",
    "df_fm_dec_2030 = data_51[[158+i,163+i,168+i]].sum(axis = 1)*(data_51[25+i]/data_51[[15+i,20+i,25+i]].sum(axis=1))\n",
    "i = 2\n",
    "df_fm_dec_2040 = data_51[[158+i,163+i,168+i]].sum(axis = 1)*(data_51[25+i]/data_51[[15+i,20+i,25+i]].sum(axis=1))\n",
    "i = 3\n",
    "df_fm_dec_2050 = data_51[[158+i,163+i,168+i]].sum(axis = 1)*(data_51[25+i]/data_51[[15+i,20+i,25+i]].sum(axis=1))\n",
    "i = 4\n",
    "df_fm_dec_2060 = data_51[[158+i,163+i,168+i]].sum(axis = 1)*(data_51[25+i]/data_51[[15+i,20+i,25+i]].sum(axis=1))\n",
    "\n",
    "i=0\n",
    "\n",
    "\n",
    "cf_2020 = (data_51[15+i]*0.5490+data_51[20+i]*0.1387+data_51[25+i]*0.7537)/100\n",
    "cf_2020 = pd.Series(np.where(cf_2020 > .88,.88,cf_2020))\n",
    "i=1\n",
    "cf_2030 = (data_51[15+i]*0.5490+data_51[20+i]*0.1387+data_51[25+i]*0.7537)/100\n",
    "cf_2030 = pd.Series(np.where(cf_2030 > .88,.88,cf_2030))\n",
    "i=2\n",
    "cf_2040 = (data_51[15+i]*0.5490+data_51[20+i]*0.1387+data_51[25+i]*0.7537)/100\n",
    "cf_2040 = pd.Series(np.where(cf_2040 > .88,.88,cf_2040))\n",
    "i=3\n",
    "cf_2050 = (data_51[15+i]*0.5490+data_51[20+i]*0.1387+data_51[25+i]*0.7537)/100\n",
    "cf_2050 = pd.Series(np.where(cf_2050 > .88,.88,cf_2050))\n",
    "i=4\n",
    "cf_2060 = (data_51[15+i]*0.5490+data_51[20+i]*0.1387+data_51[25+i]*0.7537)/100\n",
    "cf_2060 = pd.Series(np.where(cf_2060 > .88,.88,cf_2060))"
   ]
  },
  {
   "cell_type": "code",
   "execution_count": 7,
   "metadata": {},
   "outputs": [],
   "source": [
    "# need: df_fm species specific biomass\n",
    "#df_cf canopy fraction\n",
    "\n",
    "def foliage_mass_to_LAI(df_fm,df_cf,species):#df_pseudotype,fm_file:str,canopy_closure_file:str,species:int,out_file:str,unit_change1:float,unit_change2:float):\n",
    "    unit_change1= 1000\n",
    "    unit_change2 = 1\n",
    "    df_cf = df_cf.multiply(100)\n",
    "\n",
    "    pine_limit = 10.0*unit_change1\n",
    "    spruce_limit = 20.0*unit_change1\n",
    "    deciduous_limit = 5.0*unit_change1\n",
    "    cf_limit=0\n",
    "    fm_limit=0\n",
    "    cf_specific1=0\n",
    "    cf_specific2=0\n",
    "    if species == 1:\n",
    "        fm_limit=pine_limit\n",
    "        cf_limit=0.5\n",
    "        cf_specific1=12.5\n",
    "        cf_specific2=15.0\n",
    "        sp_name = \"pine\"\n",
    "    if species == 2:\n",
    "        fm_limit =spruce_limit\n",
    "        cf_limit=0.7\n",
    "        cf_specific1=8.0\n",
    "        cf_specific2=11.0\n",
    "        sp_name = \"spruce\"\n",
    "    if species > 2:\n",
    "        fm_limit=deciduous_limit\n",
    "        cf_limit=0.5\n",
    "        cf_specific1=28.0\n",
    "        cf_specific2=0\n",
    "        sp_name = \"dec\"\n",
    "\n",
    "    unit_change2=10\n",
    "    bm_name = \"BM_fol_\"+sp_name\n",
    "    #df_fm = result[bm_name]#/result[\"AREA\"]#merge_by_segment_number(df_pseudotype,df_fm_all)\n",
    "    #print('FM',df_fm.head())\n",
    "    #It is now assumed that canopy closure file has been written out\n",
    "    #df_cf = result['cf']# \n",
    "    #print('CF',df_cf.head())\n",
    "    #10kg to kg\n",
    "    #print(\"FM kg\")\n",
    "    df_fm=df_fm.multiply(100)\n",
    "    #Limit max foliage mass\n",
    "    #print(\"Limit fm\")\n",
    "    df_fm=df_fm.apply(lambda x:min(fm_limit,x))\n",
    "    #concat df_cf and df_fm\n",
    "    #df_cf is one column and df_fm is three column wide\n",
    "\n",
    "    df_cf_fm_lai = pd.concat([df_cf,df_fm],axis=1)\n",
    "    df_cf_fm_lai['LAI']=0\n",
    "    df_cf_fm_lai.columns = [\"CF\",\"FM\",\"LAI\"]\n",
    "    \n",
    "    #Hectars to m2 with 10000\n",
    "    #print(\"LAI\")\n",
    "    #Pine or Spruce \n",
    "    #import pdb;pdb.set_trace()\n",
    "    #print(df_cf_fm_lai)\n",
    "    df_cf_fm_lai = df_cf_fm_lai.rename(columns={\"cf\":\"CF\",bm_name:\"FM\"})\n",
    "    \n",
    "    if species == 1 or species ==2:\n",
    "        df_cf_fm_lai['LAI'] = df_cf_fm_lai.apply(lambda row: 0.5*row['FM']*cf_specific1/10000.0 if row['CF'] < cf_limit else row['LAI'],axis=1)\n",
    "        df_cf_fm_lai['LAI'] = df_cf_fm_lai.apply(lambda row: 0.5*row['FM']*(0.5*cf_specific1+0.5*cf_specific2)/10000.0 if row['CF'] >= cf_limit else row['LAI'],axis=1)\n",
    "    else:\n",
    "        df_cf_fm_lai['LAI'] = df_cf_fm_lai.apply(lambda row: (0.5*row['FM']*cf_specific1)/10000.0,axis=1)\n",
    "    df = df_cf_fm_lai['LAI']\n",
    "    df[df <0 ] = 0\n",
    "    return(df)"
   ]
  },
  {
   "cell_type": "code",
   "execution_count": 8,
   "metadata": {},
   "outputs": [],
   "source": [
    "ALL_results = {\"Soil\":data_51[3],\"CF_2020\":cf_2020,\"CF_2030\":cf_2030,\"CF_2040\":cf_2040,\"CF_2050\":cf_2050,\"CF_2060\":cf_2060}\n",
    "ALL_results = pd.DataFrame(data = ALL_results)\n",
    "\n",
    "ALL_results[\"LAI_pine_2020\"] = foliage_mass_to_LAI(df_fm_pine_2020,cf_2020,1)\n",
    "ALL_results[\"LAI_pine_2030\"] = foliage_mass_to_LAI(df_fm_pine_2030,cf_2030,1)\n",
    "ALL_results[\"LAI_pine_2040\"] = foliage_mass_to_LAI(df_fm_pine_2040,cf_2040,1)\n",
    "ALL_results[\"LAI_pine_2050\"] = foliage_mass_to_LAI(df_fm_pine_2050,cf_2050,1)\n",
    "ALL_results[\"LAI_pine_2060\"] = foliage_mass_to_LAI(df_fm_pine_2060,cf_2060,1)\n",
    "\n",
    "ALL_results[\"LAI_spruce_2020\"] = foliage_mass_to_LAI(df_fm_spruce_2020,cf_2020,2)\n",
    "ALL_results[\"LAI_spruce_2030\"] = foliage_mass_to_LAI(df_fm_spruce_2030,cf_2030,2)\n",
    "ALL_results[\"LAI_spruce_2040\"] = foliage_mass_to_LAI(df_fm_spruce_2040,cf_2040,2)\n",
    "ALL_results[\"LAI_spruce_2050\"] = foliage_mass_to_LAI(df_fm_spruce_2050,cf_2050,2)\n",
    "ALL_results[\"LAI_spruce_2060\"] = foliage_mass_to_LAI(df_fm_spruce_2060,cf_2060,2)\n",
    "\n",
    "ALL_results[\"LAI_dec_2020\"] = foliage_mass_to_LAI(df_fm_dec_2020,cf_2020,3)\n",
    "ALL_results[\"LAI_dec_2030\"] = foliage_mass_to_LAI(df_fm_dec_2030,cf_2030,3)\n",
    "ALL_results[\"LAI_dec_2040\"] = foliage_mass_to_LAI(df_fm_dec_2040,cf_2040,3)\n",
    "ALL_results[\"LAI_dec_2050\"] = foliage_mass_to_LAI(df_fm_dec_2050,cf_2050,3)\n",
    "ALL_results[\"LAI_dec_2060\"] = foliage_mass_to_LAI(df_fm_dec_2060,cf_2060,3)\n",
    "\n",
    "ALL_results[\"height_2020\"] = data_51[[173,178]].max(axis=1)\n",
    "ALL_results[\"height_2030\"] = data_51[[173+1,178+1]].max(axis=1)\n",
    "ALL_results[\"height_2040\"] = data_51[[173+2,178+2]].max(axis=1)\n",
    "ALL_results[\"height_2050\"] = data_51[[173+3,178+3]].max(axis=1)\n",
    "ALL_results[\"height_2060\"] = data_51[[173+4,178+4]].max(axis=1)\n",
    "\n",
    "ALL_results.index = data_51[0]\n"
   ]
  },
  {
   "cell_type": "code",
   "execution_count": 9,
   "metadata": {},
   "outputs": [],
   "source": [
    "import pandas as pd\n",
    "import numpy as np\n",
    "\n",
    "folder = \"/scratch/project_2003225/GIT/SpaFHy-Peat/Puhdasjarvi/Data/Lisatiedot/\"\n",
    "\n",
    "start_data_61 = \"30061_MuodostaRSU_HILAPISTE_PR11.txt\"\n",
    "start_data_51 = \"30051_MuodostaRSU_HILAPISTE_PR11.txt\"\n",
    "start_data_62 = \"30062_MuodostaRSU_HILAPISTE_PR12.txt\"\n",
    "start_data_52 = \"30052_MuodostaRSU_HILAPISTE_PR12.txt\"\n",
    "start_data_63 = \"30063_MuodostaRSU_HILAPISTE_PR13.txt\"\n",
    "start_data_53 = \"30053_MuodostaRSU_HILAPISTE_PR13.txt\"\n",
    "start_51 = pd.read_csv(folder+start_data_51,delim_whitespace=True,header = None,names = [1,2,3,4,5,6,7,8,9,10,11,12,13,14,15,16,17,18,19,20,21,22,23,24,25,26,27,28,29,30,31,32])\n",
    "start_52 = pd.read_csv(folder+start_data_52,delim_whitespace=True,header = None,names = [1,2,3,4,5,6,7,8,9,10,11,12,13,14,15,16,17,18,19,20,21,22,23,24,25,26,27,28,29,30,31,32])\n",
    "start_53 = pd.read_csv(folder+start_data_53,delim_whitespace=True,header = None,names = [1,2,3,4,5,6,7,8,9,10,11,12,13,14,15,16,17,18,19,20,21,22,23,24,25,26,27,28,29,30,31,32])\n",
    "start_61 = pd.read_csv(folder+start_data_61,delim_whitespace=True,header = None,names = [1,2,3,4,5,6,7,8,9,10,11,12,13,14,15,16,17,18,19,20,21,22,23,24,25,26,27,28,29,30,31,32])\n",
    "start_62 = pd.read_csv(folder+start_data_62,delim_whitespace=True,header = None,names = [1,2,3,4,5,6,7,8,9,10,11,12,13,14,15,16,17,18,19,20,21,22,23,24,25,26,27,28,29,30,31,32])\n",
    "start_63 = pd.read_csv(folder+start_data_63,delim_whitespace=True,header = None,names = [1,2,3,4,5,6,7,8,9,10,11,12,13,14,15,16,17,18,19,20,21,22,23,24,25,26,27,28,29,30,31,32])\n"
   ]
  },
  {
   "cell_type": "code",
   "execution_count": 10,
   "metadata": {},
   "outputs": [],
   "source": [
    "start_51 = pd.read_csv(folder+start_data_52,delim_whitespace=True,header = None,names = [1,2,3,4,5,6,7,8,9,10,11,12,13,14,15,16,17,18,19,20,21,22,23,24,25,26,27,28,29,30,31,32])\n",
    "start_51.index= start_51[1]\n",
    "ALL_results[\"N_Coord\"] = start_51[start_51[2] == 1][10]\n",
    "ALL_results[\"E_Coord\"] = start_51[start_51[2] == 1][11]+3000000"
   ]
  },
  {
   "cell_type": "code",
   "execution_count": 11,
   "metadata": {},
   "outputs": [],
   "source": [
    "site = \"pkarjala\"\n",
    "E = pd.read_csv(\"/scratch/project_2003225/GIT/SpaFHy-Peat/\"+site+\"/Ecoord.dat\",header = None,skiprows=6) \n",
    "N = pd.read_csv(\"/scratch/project_2003225/GIT/SpaFHy-Peat/\"+site+\"/Ncoord.dat\",header = None,skiprows=6)  \n",
    "forcing = pd.read_csv(\"/scratch/project_2003225/GIT/SpaFHy-Peat/\"+site+\"/forcing_id.dat\",header = None,skiprows=6) \n",
    "depth = pd.read_csv(\"/scratch/project_2003225/GIT/SpaFHy-Peat/\"+site+\"/ditch_depth.dat\",header = None,skiprows=6) \n",
    "spacing = pd.read_csv(\"/scratch/project_2003225/GIT/SpaFHy-Peat/\"+site+\"/ditch_spacing.dat\",header = None,skiprows=6) \n",
    "soil = pd.read_csv(\"/scratch/project_2003225/GIT/SpaFHy-Peat/\"+site+\"/soil_id.dat\",header = None,skiprows=6) "
   ]
  },
  {
   "cell_type": "code",
   "execution_count": 12,
   "metadata": {},
   "outputs": [],
   "source": [
    "forcing_id = []\n",
    "depth_val = []\n",
    "spacing_val = []\n",
    "soil_val = []\n",
    "t={\"Ecoord\":list(E[0]),\"Ncoord\":list(N[0]),\"Forcing\":list(forcing[0]),\"depth\":list(depth[0]),\"spacing\":list(spacing[0]),\"soil\":list(soil[0])}\n",
    "E_N_data = pd.DataFrame(data = t)\n",
    "\n",
    "for i in ALL_results[\"E_Coord\"].keys():\n",
    "    E_N_data[\"TEST\"] =  abs(E_N_data[\"Ecoord\"]-(ALL_results[\"E_Coord\"][i]))+abs(E_N_data[\"Ncoord\"]-ALL_results[\"N_Coord\"][i])\n",
    "    forcing_id = forcing_id + [int(E_N_data.iloc[E_N_data[\"TEST\"].idxmin()][\"Forcing\"])]\n",
    "    depth_val = depth_val + [E_N_data.iloc[E_N_data[\"TEST\"].idxmin()][\"depth\"]]\n",
    "    spacing_val = spacing_val + [E_N_data.iloc[E_N_data[\"TEST\"].idxmin()][\"spacing\"]]\n",
    "    soil_val = soil_val + [E_N_data.iloc[E_N_data[\"TEST\"].idxmin()][\"soil\"]]\n",
    "ALL_results[\"Forcing_id\"] = forcing_id\n",
    "ALL_results[\"Ditch_Spacing\"] = spacing_val\n",
    "ALL_results[\"Ditch_depth\"] = depth_val\n",
    "ALL_results[\"soil_check\"] = soil_val"
   ]
  },
  {
   "cell_type": "code",
   "execution_count": 19,
   "metadata": {},
   "outputs": [],
   "source": [
    "depth_val = [i/10 for i in depth_val]\n",
    "ALL_results[\"Ditch_depth\"] = depth_val\n",
    "ALL_results[\"soil_check\"] = soil_val"
   ]
  },
  {
   "cell_type": "code",
   "execution_count": 14,
   "metadata": {},
   "outputs": [],
   "source": [
    "ALL_results[\"SC\"] = list(data_51[3])\n",
    "ALL_results['Soil_ID']=0\n",
    "\n",
    "ALL_results['Soil_ID'] = np.where(ALL_results['SC']>4,1,ALL_results['Soil_ID'])\n",
    "ALL_results['Soil_ID'] = np.where(ALL_results['SC']<5,2,ALL_results['Soil_ID'])\n",
    "ALL_results['V_Sp_2020'] = list(data_51[15])\n",
    "ALL_results['V_Ns_2020'] = list(data_51[20])\n",
    "ALL_results['V_Dec_2020'] = list(data_51[25])\n",
    "\n",
    "ALL_results['MainSpecies']=0\n",
    "\n",
    "df_p = ALL_results.assign(MainSpecies=np.where((ALL_results['V_Sp_2020'] >= ALL_results['V_Ns_2020']) & (ALL_results['V_Sp_2020'] >= ALL_results['V_Dec_2020']),1,ALL_results['MainSpecies']))\n",
    "\n",
    "df_ps = df_p.assign(MainSpecies=np.where((df_p['V_Ns_2020'] > df_p['V_Sp_2020']) & (df_p['V_Ns_2020'] >= df_p['V_Dec_2020']),2,df_p['MainSpecies']))\n",
    "df_psd = df_ps.assign(MainSpecies=np.where((df_ps['V_Dec_2020'] > df_ps['V_Sp_2020']) & (df_ps['V_Dec_2020'] > df_ps['V_Ns_2020']),3,df_ps['MainSpecies']))\n",
    "ALL_results = df_psd.assign(Soil_ID=np.where(((df_psd['SC'] == 3) | (df_psd['SC'] == 4)) & (df_psd['MainSpecies'] == 2),1,df_psd['Soil_ID']))"
   ]
  },
  {
   "cell_type": "code",
   "execution_count": 15,
   "metadata": {},
   "outputs": [
    {
     "data": {
      "text/plain": [
       "Index(['Soil', 'CF_2020', 'CF_2030', 'CF_2040', 'CF_2050', 'CF_2060',\n",
       "       'LAI_pine_2020', 'LAI_pine_2030', 'LAI_pine_2040', 'LAI_pine_2050',\n",
       "       ...\n",
       "       'CF_2058', 'height_2058', 'LAI_pine_2058', 'LAI_spruce_2058',\n",
       "       'LAI_dec_2058', 'CF_2059', 'height_2059', 'LAI_pine_2059',\n",
       "       'LAI_spruce_2059', 'LAI_dec_2059'],\n",
       "      dtype='object', length=218)"
      ]
     },
     "execution_count": 15,
     "metadata": {},
     "output_type": "execute_result"
    }
   ],
   "source": [
    "for j in range(2,6):\n",
    "    for i in range(1,10):\n",
    "        ALL_results[\"CF_20\"+str(j)+str(i)] = (ALL_results[\"CF_20\"+str(j)+\"0\"]*(10-i)/10+ALL_results[\"CF_20\"+str(j+1)+\"0\"]*i/10)\n",
    "        ALL_results[\"height_20\"+str(j)+str(i)] = (ALL_results[\"height_20\"+str(j)+\"0\"]*(10-i)/10+ALL_results[\"height_20\"+str(j+1)+\"0\"]*i/10)\n",
    "        ALL_results[\"LAI_pine_20\"+str(j)+str(i)] = (ALL_results[\"LAI_pine_20\"+str(j)+\"0\"]*(10-i)/10+ALL_results[\"LAI_pine_20\"+str(j+1)+\"0\"]*i/10)\n",
    "        ALL_results[\"LAI_spruce_20\"+str(j)+str(i)] = (ALL_results[\"LAI_spruce_20\"+str(j)+\"0\"]*(10-i)/10+ALL_results[\"LAI_spruce_20\"+str(j+1)+\"0\"]*i/10)\n",
    "        ALL_results[\"LAI_dec_20\"+str(j)+str(i)] = (ALL_results[\"LAI_dec_20\"+str(j)+\"0\"]*(10-i)/10+ALL_results[\"LAI_dec_20\"+str(j+1)+\"0\"]*i/10)\n",
    "        \n",
    "ALL_results.columns#[[\"CF_20\"+str(i) for i in range(30,41)]]\n",
    "#    [\"CF_2020\",\"CF_2021\",\"CF_2022\",\"CF_2023\",\"CF_2024\",\"CF_2025\",\"CF_2026\",\"CF_2027\",\"CF_2028\",\"CF_2029\",\"CF_2030\"]]\n",
    "\n"
   ]
  },
  {
   "cell_type": "code",
   "execution_count": 20,
   "metadata": {
    "scrolled": true
   },
   "outputs": [],
   "source": [
    "#SINGLE VALUES\n",
    "gis_file_header1 = \"ncols 1\\n\"\n",
    "gis_file_header2 = \"xllcorner 0\\nyllcorner 0\\ncellsize 16\\nNODATA_value -9999\\n\"\n",
    "gis_file_header = gis_file_header1+\"nrows \"+str(len(ALL_results))+\"\\n\"+gis_file_header2\n",
    "\n",
    "D_spacing = ALL_results[\"Ditch_Spacing\"]#cf_dat.index.get_level_values(level=2) - get from earlier data\n",
    "D_Depth = ALL_results[\"Ditch_depth\"]#vcf_dat.index.get_level_values(level=3) - get from earlier data\n",
    "X1 = ALL_results[\"E_Coord\"]#Ditch_cf_dat.index.get_level_values(level=4) - get from initial data\n",
    "Y1 = ALL_results[\"N_Coord\"]#cf_dat.index.get_level_values(level=5) - get from initial data\n",
    "Forcing_id = ALL_results[\"Forcing_id\"]#cf_dat.index.get_level_values(level=6) - link to Xand Y\n",
    "Soil_ID = ALL_results[\"Soil_ID\"]#data_51[4]cf_dat.index.get_level_values(level=7) # column 4\n",
    "\n",
    "dat = {\"D_spacing\":list(D_spacing),\"D_Depth\":list(D_Depth),\"X1\":list(X1),\"Y1\":list(Y1),\"Forcing_id\":list(Forcing_id),\"Soil_ID\":list(Soil_ID)}\n",
    "dat = pd.DataFrame(dat)\n",
    "\n",
    "#'cf', 'LAI_ns', 'LAI_sp', 'LAI_dec','H_gM',\n",
    "#'cf.dat','LAI_spruce.dat','LAI_pine.dat','LAI_decid.dat','hc.dat',\n",
    "extract = ['X1', 'Y1', 'Forcing_id', 'D_spacing','D_Depth', \"Soil_ID\"]\n",
    "names = ['Ecoord.dat','Ncoord.dat','forcing_id.dat','ditch_spacing.dat','ditch_depth.dat','soil_id.dat']\n",
    "def write_gis_header(fname:str,header:str):\n",
    "    f=open(fname,'w')\n",
    "    f.write(header)\n",
    "    return f\n",
    "i = 0\n",
    "for ex in extract:\n",
    "    output_file = \"/scratch/project_2003225/GIT/KE/SpaFHyPeat_CP/Puhdasjarvi/\"+data_loc +\"/\"+names[i]\n",
    "    f=write_gis_header(output_file,gis_file_header)\n",
    "    f.close()\n",
    "    dat.to_csv(output_file,mode='a',columns=[ex],header=False,index=False,sep =\" \")\n",
    "    i = i+1"
   ]
  },
  {
   "cell_type": "code",
   "execution_count": 18,
   "metadata": {},
   "outputs": [],
   "source": [
    "#Multiple VALUES\n",
    "gis_file_header1 = \"ncols 1\\n\"\n",
    "gis_file_header2 = \"xllcorner 0\\nyllcorner 0\\ncellsize 16\\nNODATA_value -9999\\n\"\n",
    "gis_file_header = gis_file_header1+\"nrows \"+str(len(ALL_results))+\"\\n\"+gis_file_header2\n",
    "\n",
    "CF = ALL_results[[\"CF_20\"+str(i) for i in range(20,61)]]\n",
    "LAI_pine = ALL_results[[\"LAI_pine_20\"+str(i) for i in range(20,61)]]\n",
    "LAI_spruce = ALL_results[[\"LAI_spruce_20\"+str(i) for i in range(20,61)]]\n",
    "LAI_dec = ALL_results[[\"LAI_dec_20\"+str(i) for i in range(20,61)]]\n",
    "hc = ALL_results[[\"height_20\"+str(i) for i in range(20,61)]]\n",
    "\n",
    "\n",
    "dat = {\"cf\":list(CF),\"LAI_ns\":list(LAI_spruce),\"LAI_sp\":list(LAI_pine),\"LAI_dec\":list(LAI_dec),\"hc\":list(hc)}\n",
    "dat = pd.DataFrame(dat)\n",
    "\n",
    "#'cf', 'LAI_ns', 'LAI_sp', 'LAI_dec','H_gM',\n",
    "#'cf.dat','LAI_spruce.dat','LAI_pine.dat','LAI_decid.dat','hc.dat',\n",
    "extract = ['cf', 'LAI_ns', 'LAI_sp', 'LAI_dec','H_gM']\n",
    "names = ['cf.dat','LAI_spruce.dat','LAI_pine.dat','LAI_decid.dat','hc.dat']\n",
    "def write_gis_header(fname:str,header:str):\n",
    "    f=open(fname,'w')\n",
    "    f.write(header)\n",
    "    return f\n",
    "i = 0\n",
    "years = [i for i in range(2020,2061)]\n",
    "for ex in extract:\n",
    "    for y in years:\n",
    "        output_file = \"/scratch/project_2003225/GIT/KE/SpaFHyPeat_CP/Puhdasjarvi/\"+data_loc +\"/\"+names[i][:-4] + \"_\"+str(y)+\".dat\"\n",
    "        f=write_gis_header(output_file,gis_file_header)\n",
    "        f.close()\n",
    "        if ex == \"cf\":\n",
    "            CF[\"CF_\"+str(y)].to_csv(output_file,mode='a',header=False,index=False,sep =\" \")\n",
    "        elif ex == \"LAI_ns\":\n",
    "            LAI_spruce[\"LAI_spruce_\"+str(y)].to_csv(output_file,mode='a',header=False,index=False,sep =\" \")\n",
    "        elif ex == \"LAI_sp\":\n",
    "            LAI_pine[\"LAI_pine_\"+str(y)].to_csv(output_file,mode='a',header=False,index=False,sep =\" \")\n",
    "        elif ex == \"LAI_dec\":\n",
    "            LAI_dec[\"LAI_dec_\"+str(y)].to_csv(output_file,mode='a',header=False,index=False,sep =\" \")\n",
    "        elif ex == \"H_gM\":\n",
    "            hc[\"height_\"+str(y)].to_csv(output_file,mode='a',header=False,index=False,sep =\" \")\n",
    "    i = i+1"
   ]
  },
  {
   "cell_type": "code",
   "execution_count": null,
   "metadata": {},
   "outputs": [],
   "source": []
  },
  {
   "cell_type": "code",
   "execution_count": null,
   "metadata": {},
   "outputs": [],
   "source": [
    "#EDITING FORCING DATA\n",
    "folder = \"/scratch/project_2003225/GIT/SpaFHy-Peat/Puhdasjarvi/forcing/orig/\"\n",
    "folder_up = \"/scratch/project_2003225/GIT/SpaFHy-Peat/Puhdasjarvi/forcing/\"\n",
    "import glob\n",
    "import os\n",
    "names = [os.path.basename(x) for x in glob.glob(folder+'*.csv')]\n",
    "\n",
    "import random\n",
    "dates = [random.randint(2000, 2016) for i in range(2020,2061)]\n",
    "\n",
    "for name in names:\n",
    "    forcing = pd.read_csv(folder+name,sep=\";\")\n",
    "    for k in range(2020,2061):\n",
    "        i = 0\n",
    "        if k == 2020:\n",
    "            t1 = forcing[forcing[\"vuosi\"] == dates[i]]\n",
    "            t1['vuosi'] = k\n",
    "            t1['aika']= t1.apply(lambda row: str(row.vuosi) +str(row.kk).zfill(2) +str(row.paiva).zfill(2), axis = 1) \n",
    "            i = i+1\n",
    "        else:\n",
    "            t2 = forcing[forcing[\"vuosi\"] == dates[i]]\n",
    "            t2['vuosi'] = k\n",
    "            t2['aika']= t2.apply(lambda row: str(row.vuosi) +str(row.kk).zfill(2) +str(row.paiva).zfill(2), axis = 1) \n",
    "            i =i+1\n",
    "            t1 = t1.append(t2)\n",
    "    t1.to_csv(folder_up+name,sep=\";\",index=None)\n"
   ]
  },
  {
   "cell_type": "code",
   "execution_count": null,
   "metadata": {},
   "outputs": [],
   "source": []
  }
 ],
 "metadata": {
  "kernelspec": {
   "display_name": "Python 3",
   "language": "python",
   "name": "python3"
  },
  "language_info": {
   "codemirror_mode": {
    "name": "ipython",
    "version": 3
   },
   "file_extension": ".py",
   "mimetype": "text/x-python",
   "name": "python",
   "nbconvert_exporter": "python",
   "pygments_lexer": "ipython3",
   "version": "3.8.5"
  }
 },
 "nbformat": 4,
 "nbformat_minor": 4
}
