{
 "cells": [
  {
   "cell_type": "code",
   "execution_count": 33,
   "metadata": {},
   "outputs": [],
   "source": [
    "import pandas as pd\n",
    "Arbonaught_data = pd.read_csv(\"/scratch/project_2003225/GIT/KE/SpaFHyPeat_CP/MELA_Data/Lisatiedot/Suo_3053_PR13.txt\",sep = \";\")"
   ]
  },
  {
   "cell_type": "code",
   "execution_count": 34,
   "metadata": {},
   "outputs": [
    {
     "data": {
      "text/plain": [
       "Index(['OBJECTID', 'HILA_ID', 'P_KOORD', 'I_KOORD', 'Kork', 'Lampos', 'PR',\n",
       "       'KasvLK', 'SuoR', 'Maalaji', 'KasitLK', 'KuvioAla_HA', 'Ojaa_M',\n",
       "       'Sarkaleveys_M', 'OjaSyv_CM', 'OjitusTP', 'Ojitusv', 'MA_TIL_20',\n",
       "       'KU_TIL_20', 'LE_TIL_20', 'KOK_TIL_20', 'MA_KASVU_20', 'KU_KASVU_20',\n",
       "       'LE_KASVU_20', 'KOK_KASVU_20', 'MA_TIL_15', 'KU_TIL_15', 'LE_TIL_15'],\n",
       "      dtype='object')"
      ]
     },
     "execution_count": 34,
     "metadata": {},
     "output_type": "execute_result"
    }
   ],
   "source": [
    "Arbonaught_data.columns"
   ]
  },
  {
   "cell_type": "code",
   "execution_count": 36,
   "metadata": {},
   "outputs": [
    {
     "data": {
      "text/plain": [
       "10"
      ]
     },
     "execution_count": 36,
     "metadata": {},
     "output_type": "execute_result"
    }
   ],
   "source": [
    "#min(\n",
    "Arbonaught_data[Arbonaught_data['Ojaa_M'] > 0]['OjaSyv_CM']"
   ]
  },
  {
   "cell_type": "code",
   "execution_count": null,
   "metadata": {},
   "outputs": [],
   "source": []
  }
 ],
 "metadata": {
  "kernelspec": {
   "display_name": "Python 3",
   "language": "python",
   "name": "python3"
  },
  "language_info": {
   "codemirror_mode": {
    "name": "ipython",
    "version": 3
   },
   "file_extension": ".py",
   "mimetype": "text/x-python",
   "name": "python",
   "nbconvert_exporter": "python",
   "pygments_lexer": "ipython3",
   "version": "3.8.5"
  }
 },
 "nbformat": 4,
 "nbformat_minor": 4
}
